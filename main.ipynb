{
 "cells": [
  {
   "cell_type": "code",
   "execution_count": null,
   "metadata": {},
   "outputs": [],
   "source": [
    "! pip install -U langgraph langchain_core langchain-google-genai"
   ]
  },
  {
   "cell_type": "code",
   "execution_count": 104,
   "metadata": {},
   "outputs": [],
   "source": [
    "# Imported All the Neccessary Libraries\n",
    "from langchain_google_genai import ChatGoogleGenerativeAI\n",
    "from langgraph.graph import StateGraph,START,END\n",
    "from langgraph.graph.state import CompiledStateGraph\n",
    "import os\n",
    "from dotenv import load_dotenv\n",
    "from IPython.display import Image,display\n",
    "from langgraph.graph.message import MessagesState\n"
   ]
  },
  {
   "cell_type": "code",
   "execution_count": 91,
   "metadata": {},
   "outputs": [],
   "source": [
    "\n",
    "# Loading all the Environment Variables\n",
    "load_dotenv()\n",
    "\n",
    "google_api = os.getenv(\"GEMINI_API_KEY\")\n",
    "\n",
    "llm : ChatGoogleGenerativeAI = ChatGoogleGenerativeAI(model='gemini-1.5-flash',api_key=google_api)"
   ]
  },
  {
   "cell_type": "code",
   "execution_count": null,
   "metadata": {},
   "outputs": [
    {
     "data": {
      "image/jpeg": "[encoded data removed]",
      "text/plain": [
       "<IPython.core.display.Image object>"
      ]
     },
     "metadata": {},
     "output_type": "display_data"
    }
   ],
   "source": [
    "class State(MessagesState):\n",
    "    pass\n",
    "\n",
    "def chatbot(state:State):\n",
    "    return {\"messages\" : llm.invoke(state[\"messages\"])}\n",
    "\n",
    "\n",
    "workflow:StateGraph = StateGraph(State)\n",
    "workflow.add_node(\"chatbot\",chatbot)\n",
    "workflow.add_edge(START,\"chatbot\")\n",
    "workflow.add_edge(\"chatbot\",END)\n",
    "\n",
    "graph:CompiledStateGraph = workflow.compile()\n",
    "    \n",
    "\n",
    "display(Image(graph.get_graph().draw_mermaid_png()))\n",
    "    "
   ]
  },
  {
   "cell_type": "code",
   "execution_count": null,
   "metadata": {},
   "outputs": [
    {
     "name": "stdout",
     "output_type": "stream",
     "text": [
      "================================\u001b[1m Human Message \u001b[0m=================================\n",
      "\n",
      "What is LangGraph ?\n",
      "==================================\u001b[1m Ai Message \u001b[0m==================================\n",
      "\n",
      "LangGraph is a **knowledge graph** that focuses on **language-related information**. It's like a massive, interconnected database of facts about languages, their structure, and their usage. \n",
      "\n",
      "Here's a breakdown of its key features:\n",
      "\n",
      "**What it contains:**\n",
      "\n",
      "* **Languages:** Information about individual languages, including their names, families, geographic distributions, and speakers.\n",
      "* **Linguistic features:** Data about language structures, such as phonology (sounds), morphology (word formation), syntax (sentence structure), and semantics (meaning).\n",
      "* **Language relationships:** Connections between languages, including genetic relationships (family trees), contact relationships (influence), and typological relationships (shared features).\n",
      "* **Language resources:** Links to external resources, such as dictionaries, grammars, and corpora (collections of texts).\n",
      "* **Linguistic phenomena:** Information about specific linguistic phenomena, such as language change, language acquisition, and language variation.\n",
      "\n",
      "**How it's used:**\n",
      "\n",
      "* **Linguistic research:** LangGraph provides a comprehensive platform for exploring linguistic data and conducting research on language structure, evolution, and diversity.\n",
      "* **Natural language processing (NLP):** NLP systems can use LangGraph to improve their understanding of language, including tasks like machine translation, text summarization, and sentiment analysis.\n",
      "* **Educational resources:** LangGraph can be used as a learning tool for students and researchers interested in linguistics and language studies.\n",
      "* **Language documentation:** LangGraph can help document and preserve endangered languages by providing a platform for storing and sharing information about them.\n",
      "\n",
      "**Key aspects:**\n",
      "\n",
      "* **Open source and collaborative:** LangGraph is an open-source project, meaning anyone can contribute to its development and expansion.\n",
      "* **Structured data:** LangGraph uses a structured format to represent information, making it easy to query and analyze.\n",
      "* **Linked data:** LangGraph integrates with other linked data initiatives, allowing for cross-domain knowledge discovery.\n",
      "\n",
      "**Benefits:**\n",
      "\n",
      "* **Comprehensive and integrated view of language data:** LangGraph brings together information from various sources, providing a holistic perspective on language.\n",
      "* **Facilitates research and discovery:** The structured and interconnected nature of LangGraph makes it easier to explore linguistic data and uncover new insights.\n",
      "* **Promotes collaboration and knowledge sharing:** The open-source nature of LangGraph encourages collaboration and knowledge sharing among researchers and language enthusiasts.\n",
      "\n",
      "**Overall, LangGraph is a valuable resource for anyone interested in language, linguistics, and language technology. It provides a rich and interconnected platform for exploring the fascinating world of language.**\n"
     ]
    }
   ],
   "source": [
    "input_value = input(\"Enter your prompt\")\n",
    "messages = graph.invoke({\"messages\" : input_value})\n",
    "\n",
    "for m in messages[\"messages\"]:\n",
    "    m.pretty_print()"
   ]
  }
 ],
 "metadata": {
  "kernelspec": {
   "display_name": "streamlit",
   "language": "python",
   "name": "python3"
  },
  "language_info": {
   "codemirror_mode": {
    "name": "ipython",
    "version": 3
   },
   "file_extension": ".py",
   "mimetype": "text/x-python",
   "name": "python",
   "nbconvert_exporter": "python",
   "pygments_lexer": "ipython3",
   "version": "3.11.10"
  }
 },
 "nbformat": 4,
 "nbformat_minor": 2
}
